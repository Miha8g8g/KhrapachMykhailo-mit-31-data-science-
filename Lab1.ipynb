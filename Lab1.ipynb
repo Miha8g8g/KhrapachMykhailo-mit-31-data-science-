{
 "cells": [
  {
   "cell_type": "code",
   "execution_count": 2,
   "metadata": {},
   "outputs": [
    {
     "name": "stdin",
     "output_type": "stream",
     "text": [
      "Введіть ваше ім'я:  Miha\n"
     ]
    },
    {
     "name": "stdout",
     "output_type": "stream",
     "text": [
      "Hello, Miha!\n",
      "Масив випадкових чисел: [0.66384715 0.64692964 0.69786576 0.30566271 0.31051899 0.17041377\n",
      " 0.33264118 0.82280995 0.26335501 0.3328527 ]\n",
      "Середнє значення масиву випадкових чисел: 0.4546896859955072\n"
     ]
    }
   ],
   "source": [
    "import numpy as np\n",
    "\n",
    "# Запитуємо у користувача його ім'я\n",
    "name = input(\"Введіть ваше ім'я: \").strip()\n",
    "\n",
    "# Перевіряємо, чи ім'я не пусте\n",
    "while not name:\n",
    "    print(\"Будь ласка, введіть коректне ім'я.\")\n",
    "    name = input(\"Введіть ваше ім'я: \").strip()\n",
    "\n",
    "# Виводимо привітання\n",
    "print(f\"Hello, {name}!\")\n",
    "\n",
    "# Створюємо масив з 10 випадкових чисел\n",
    "random_numbers = np.random.rand(10)\n",
    "\n",
    "# Обчислюємо середнє значення масиву\n",
    "average = np.mean(random_numbers)\n",
    "\n",
    "# Виводимо середнє значення\n",
    "print(\"Масив випадкових чисел:\", random_numbers)\n",
    "print(f\"Середнє значення масиву випадкових чисел: {average}\")"
   ]
  },
  {
   "cell_type": "code",
   "execution_count": null,
   "metadata": {},
   "outputs": [],
   "source": []
  }
 ],
 "metadata": {
  "kernelspec": {
   "display_name": "Python 3 (ipykernel)",
   "language": "python",
   "name": "python3"
  },
  "language_info": {
   "codemirror_mode": {
    "name": "ipython",
    "version": 3
   },
   "file_extension": ".py",
   "mimetype": "text/x-python",
   "name": "python",
   "nbconvert_exporter": "python",
   "pygments_lexer": "ipython3",
   "version": "3.13.0"
  }
 },
 "nbformat": 4,
 "nbformat_minor": 4
}
