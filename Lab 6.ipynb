{
 "cells": [
  {
   "cell_type": "code",
   "execution_count": 3,
   "metadata": {},
   "outputs": [
    {
     "ename": "ModuleNotFoundError",
     "evalue": "No module named 'tensorflow'",
     "output_type": "error",
     "traceback": [
      "\u001b[1;31m---------------------------------------------------------------------------\u001b[0m",
      "\u001b[1;31mModuleNotFoundError\u001b[0m                       Traceback (most recent call last)",
      "Cell \u001b[1;32mIn[3], line 1\u001b[0m\n\u001b[1;32m----> 1\u001b[0m \u001b[38;5;28;01mimport\u001b[39;00m \u001b[38;5;21;01mtensorflow\u001b[39;00m \u001b[38;5;28;01mas\u001b[39;00m \u001b[38;5;21;01mtf\u001b[39;00m\n\u001b[0;32m      2\u001b[0m \u001b[38;5;28;01mimport\u001b[39;00m \u001b[38;5;21;01mnumpy\u001b[39;00m \u001b[38;5;28;01mas\u001b[39;00m \u001b[38;5;21;01mnp\u001b[39;00m\n\u001b[0;32m      3\u001b[0m \u001b[38;5;28;01mimport\u001b[39;00m \u001b[38;5;21;01mmatplotlib\u001b[39;00m\u001b[38;5;21;01m.\u001b[39;00m\u001b[38;5;21;01mpyplot\u001b[39;00m \u001b[38;5;28;01mas\u001b[39;00m \u001b[38;5;21;01mplt\u001b[39;00m\n",
      "\u001b[1;31mModuleNotFoundError\u001b[0m: No module named 'tensorflow'"
     ]
    }
   ],
   "source": [
    "import tensorflow as tf\n",
    "import numpy as np\n",
    "import matplotlib.pyplot as plt\n",
    "from sklearn.datasets import make_regression, make_classification\n",
    "\n",
    "# 1. Створення та CRUD операції над тензорами (скаляр, вектор, матриця)\n",
    "print(\"=== Операції CRUD з тензорами ===\")\n",
    "\n",
    "# Скалар\n",
    "scalar = tf.constant(5)\n",
    "print(\"Скалар:\", scalar.numpy())\n",
    "\n",
    "# Оновлення (створимо новий скаляр)\n",
    "scalar = tf.constant(10)\n",
    "print(\"Оновлений скаляр:\", scalar.numpy())\n",
    "\n",
    "# Вектор\n",
    "vector = tf.constant([1, 2, 3, 4, 5])\n",
    "print(\"Вектор:\", vector.numpy())\n",
    "\n",
    "# Додавання елемента до вектора (реалізація нового вектора)\n",
    "vector = tf.concat([vector, tf.constant([6])], 0)\n",
    "print(\"Оновлений вектор:\", vector.numpy())\n",
    "\n",
    "# Матриця\n",
    "matrix = tf.constant([[1, 2, 3], [4, 5, 6], [7, 8, 9]])\n",
    "print(\"Матриця:\\n\", matrix.numpy())\n",
    "\n",
    "# Оновлення матриці (замінюємо другий рядок)\n",
    "matrix = tf.tensor_scatter_nd_update(matrix, [[1]], [[10, 11, 12]])\n",
    "print(\"Оновлена матриця:\\n\", matrix.numpy())\n",
    "\n",
    "# 2. Генерація наборів даних для регресії та класифікації\n",
    "print(\"\\n=== Генерація наборів даних для регресії та класифікації ===\")\n",
    "\n",
    "# Набір даних для регресії\n",
    "X_reg, y_reg = make_regression(n_samples=100, n_features=1, noise=0.1)\n",
    "print(\"Перші 5 значень регресійного набору:\\n\", X_reg[:5], \"\\n\", y_reg[:5])\n",
    "\n",
    "# Набір даних для класифікації\n",
    "X_clf, y_clf = make_classification(n_samples=100, n_features=2, n_classes=2, n_clusters_per_class=1)\n",
    "print(\"Перші 5 значень класифікаційного набору:\\n\", X_clf[:5], \"\\n\", y_clf[:5])\n",
    "\n",
    "# 3. Графічний аналіз наборів даних\n",
    "print(\"\\n=== Графічний аналіз даних за допомогою Matplotlib ===\")\n",
    "\n",
    "# Графік регресійного набору\n",
    "plt.figure(figsize=(12, 5))\n",
    "\n",
    "plt.subplot(1, 2, 1)\n",
    "plt.scatter(X_reg, y_reg, color='blue', edgecolor='k', s=50)\n",
    "plt.title(\"Регресійний набір даних\")\n",
    "plt.xlabel(\"X\")\n",
    "plt.ylabel(\"y\")\n",
    "\n",
    "# Графік класифікаційного набору\n",
    "plt.subplot(1, 2, 2)\n",
    "plt.scatter(X_clf[:, 0], X_clf[:, 1], c=y_clf, cmap=\"coolwarm\", edgecolor='k', s=50)\n",
    "plt.title(\"Класифікаційний набір даних\")\n",
    "plt.xlabel(\"X1\")\n",
    "plt.ylabel(\"X2\")\n",
    "\n",
    "plt.show()\n",
    "\n"
   ]
  }
 ],
 "metadata": {
  "kernelspec": {
   "display_name": "Python 3",
   "language": "python",
   "name": "python3"
  },
  "language_info": {
   "codemirror_mode": {
    "name": "ipython",
    "version": 3
   },
   "file_extension": ".py",
   "mimetype": "text/x-python",
   "name": "python",
   "nbconvert_exporter": "python",
   "pygments_lexer": "ipython3",
   "version": "3.13.0"
  }
 },
 "nbformat": 4,
 "nbformat_minor": 2
}
